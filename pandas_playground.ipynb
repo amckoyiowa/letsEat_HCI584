{
 "cells": [
  {
   "cell_type": "code",
   "execution_count": 114,
   "metadata": {},
   "outputs": [
    {
     "data": {
      "text/plain": [
       "['name',\n",
       " 'id',\n",
       " 'minutes',\n",
       " 'contributor_id',\n",
       " 'submitted',\n",
       " 'tags',\n",
       " 'nutrition',\n",
       " 'n_steps',\n",
       " 'steps',\n",
       " 'description',\n",
       " 'ingredients',\n",
       " 'n_ingredients']"
      ]
     },
     "execution_count": 114,
     "metadata": {},
     "output_type": "execute_result"
    }
   ],
   "source": [
    "import pandas as pd\n",
    "path = \"Data/RAW_recipes.csv\"\n",
    "data = pd.read_csv(path)\n",
    "list(data)"
   ]
  },
  {
   "cell_type": "code",
   "execution_count": 115,
   "metadata": {},
   "outputs": [
    {
     "data": {
      "text/plain": [
       "count    2.316370e+05\n",
       "mean     9.398546e+03\n",
       "std      4.461963e+06\n",
       "min      0.000000e+00\n",
       "25%      2.000000e+01\n",
       "50%      4.000000e+01\n",
       "75%      6.500000e+01\n",
       "max      2.147484e+09\n",
       "Name: minutes, dtype: float64"
      ]
     },
     "execution_count": 115,
     "metadata": {},
     "output_type": "execute_result"
    }
   ],
   "source": [
    "# looks like we have some entries where minutes is 0!\n",
    "data[\"minutes\"].describe()"
   ]
  },
  {
   "cell_type": "code",
   "execution_count": 116,
   "metadata": {},
   "outputs": [
    {
     "data": {
      "text/plain": [
       "count    2.305430e+05\n",
       "mean     9.443145e+03\n",
       "std      4.472537e+06\n",
       "min      1.000000e+00\n",
       "25%      2.000000e+01\n",
       "50%      4.000000e+01\n",
       "75%      6.500000e+01\n",
       "max      2.147484e+09\n",
       "Name: minutes, dtype: float64"
      ]
     },
     "execution_count": 116,
     "metadata": {},
     "output_type": "execute_result"
    }
   ],
   "source": [
    " # remove those\n",
    " data = data.drop(data[data[\"minutes\"] < 0.1].index)\n",
    " data[\"minutes\"].describe()"
   ]
  },
  {
   "cell_type": "code",
   "execution_count": 117,
   "metadata": {},
   "outputs": [
    {
     "data": {
      "text/plain": [
       "2442"
      ]
     },
     "execution_count": 117,
     "metadata": {},
     "output_type": "execute_result"
    }
   ],
   "source": [
    "search = \"pizza\" \n",
    "\n",
    "# only perfect matches are selected\n",
    "mask1 = data[\"name\"].str.contains(search, case=False, regex=False, na=False)\n",
    "df1 = data[mask1]\n",
    "len(df1)"
   ]
  },
  {
   "cell_type": "code",
   "execution_count": 118,
   "metadata": {},
   "outputs": [
    {
     "data": {
      "text/plain": [
       "169"
      ]
     },
     "execution_count": 118,
     "metadata": {},
     "output_type": "execute_result"
    }
   ],
   "source": [
    "# subset by less then X minutes\n",
    "max_dur = 10\n",
    "df1 = df1[df1[\"minutes\"] <= max_dur]\n",
    "len(df1)"
   ]
  },
  {
   "cell_type": "code",
   "execution_count": 119,
   "metadata": {},
   "outputs": [
    {
     "data": {
      "text/plain": [
       "64"
      ]
     },
     "execution_count": 119,
     "metadata": {},
     "output_type": "execute_result"
    }
   ],
   "source": [
    "# subset by less than X steps\n",
    "max_steps = 4\n",
    "df1 = df1[df1[\"n_steps\"] <= max_steps]\n",
    "len(df1)"
   ]
  },
  {
   "cell_type": "code",
   "execution_count": 120,
   "metadata": {},
   "outputs": [
    {
     "data": {
      "text/plain": [
       "25"
      ]
     },
     "execution_count": 120,
     "metadata": {},
     "output_type": "execute_result"
    }
   ],
   "source": [
    "max_ingredients = 4\n",
    "df1 = df1[df1['n_ingredients'] <= max_ingredients]\n",
    "len(df1)"
   ]
  },
  {
   "cell_type": "code",
   "execution_count": 124,
   "metadata": {},
   "outputs": [
    {
     "data": {
      "text/plain": [
       "name              the worst english muffin pizza    the saddest ...\n",
       "id                                                           404178\n",
       "minutes                                                           5\n",
       "contributor_id                                               874111\n",
       "submitted                                                2009-12-18\n",
       "tags              ['15-minutes-or-less', 'time-to-make', 'course...\n",
       "nutrition                    [79.2, 0.0, 17.0, 11.0, 5.0, 1.0, 5.0]\n",
       "n_steps                                                           4\n",
       "steps             ['preheat your toaster oven to 350 degrees', '...\n",
       "description       so why are you even looking at this recipe?!  ...\n",
       "ingredients       ['english muffin', 'ketchup', 'processed chees...\n",
       "n_ingredients                                                     3\n",
       "Name: 212824, dtype: object"
      ]
     },
     "execution_count": 124,
     "metadata": {},
     "output_type": "execute_result"
    }
   ],
   "source": [
    "# randomly get 1 \n",
    "final_rec = df1.sample(n=1).iloc[0]\n",
    "final_rec "
   ]
  },
  {
   "cell_type": "code",
   "execution_count": 122,
   "metadata": {},
   "outputs": [],
   "source": [
    "def print_recipe(ser):\n",
    "    name = ser[\"name\"]\n",
    "    minutes = ser[\"minutes\"]\n",
    "    ingr = ser[\"ingredients\"]\n",
    "    ingr = ingr.replace(\"[\", \"\").replace(\"]\", \"\").replace(\"'\", \"\")\n",
    "    steps = ser[\"steps\"]\n",
    "    steps = steps.replace(\"[\", \"\").replace(\"]\", \"\").replace(\"'\", \"\")\n",
    "    print(name, f\"({minutes} minutes)\")\n",
    "    print(ingr)\n",
    "    print(steps)\n"
   ]
  },
  {
   "cell_type": "code",
   "execution_count": 123,
   "metadata": {},
   "outputs": [
    {
     "name": "stdout",
     "output_type": "stream",
     "text": [
      "basic pizza sauce (5 minutes)\n",
      "tomato sauce, oregano, basil leaves, garlic powder\n",
      "mix together, use on pizza\n"
     ]
    }
   ],
   "source": [
    "print_recipe(final_rec)"
   ]
  }
 ],
 "metadata": {
  "kernelspec": {
   "display_name": "Python 3",
   "language": "python",
   "name": "python3"
  },
  "language_info": {
   "codemirror_mode": {
    "name": "ipython",
    "version": 3
   },
   "file_extension": ".py",
   "mimetype": "text/x-python",
   "name": "python",
   "nbconvert_exporter": "python",
   "pygments_lexer": "ipython3",
   "version": "3.10.9"
  },
  "orig_nbformat": 4
 },
 "nbformat": 4,
 "nbformat_minor": 2
}
